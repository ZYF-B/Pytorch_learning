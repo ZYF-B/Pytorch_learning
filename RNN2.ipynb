{
  "nbformat": 4,
  "nbformat_minor": 0,
  "metadata": {
    "colab": {
      "provenance": [],
      "machine_shape": "hm",
      "gpuType": "A100",
      "authorship_tag": "ABX9TyP/eqWrRGM5CVRXW6vHFJMq",
      "include_colab_link": true
    },
    "kernelspec": {
      "name": "python3",
      "display_name": "Python 3"
    },
    "language_info": {
      "name": "python"
    },
    "accelerator": "GPU"
  },
  "cells": [
    {
      "cell_type": "markdown",
      "metadata": {
        "id": "view-in-github",
        "colab_type": "text"
      },
      "source": [
        "<a href=\"https://colab.research.google.com/github/ZYF-B/Pytorch_learning/blob/main/RNN2.ipynb\" target=\"_parent\"><img src=\"https://colab.research.google.com/assets/colab-badge.svg\" alt=\"Open In Colab\"/></a>"
      ]
    },
    {
      "cell_type": "code",
      "execution_count": null,
      "metadata": {
        "colab": {
          "base_uri": "https://localhost:8080/"
        },
        "id": "NiTF3A8mmP9L",
        "outputId": "12c7104b-eb6e-438c-ee47-669683851acd"
      },
      "outputs": [
        {
          "output_type": "stream",
          "name": "stdout",
          "text": [
            "Collecting datasets\n",
            "  Downloading datasets-2.20.0-py3-none-any.whl.metadata (19 kB)\n",
            "Requirement already satisfied: filelock in /usr/local/lib/python3.10/dist-packages (from datasets) (3.15.4)\n",
            "Requirement already satisfied: numpy>=1.17 in /usr/local/lib/python3.10/dist-packages (from datasets) (1.25.2)\n",
            "Collecting pyarrow>=15.0.0 (from datasets)\n",
            "  Downloading pyarrow-17.0.0-cp310-cp310-manylinux_2_28_x86_64.whl.metadata (3.3 kB)\n",
            "Requirement already satisfied: pyarrow-hotfix in /usr/local/lib/python3.10/dist-packages (from datasets) (0.6)\n",
            "Collecting dill<0.3.9,>=0.3.0 (from datasets)\n",
            "  Downloading dill-0.3.8-py3-none-any.whl.metadata (10 kB)\n",
            "Requirement already satisfied: pandas in /usr/local/lib/python3.10/dist-packages (from datasets) (2.0.3)\n",
            "Collecting requests>=2.32.2 (from datasets)\n",
            "  Downloading requests-2.32.3-py3-none-any.whl.metadata (4.6 kB)\n",
            "Requirement already satisfied: tqdm>=4.66.3 in /usr/local/lib/python3.10/dist-packages (from datasets) (4.66.4)\n",
            "Collecting xxhash (from datasets)\n",
            "  Downloading xxhash-3.4.1-cp310-cp310-manylinux_2_17_x86_64.manylinux2014_x86_64.whl.metadata (12 kB)\n",
            "Collecting multiprocess (from datasets)\n",
            "  Downloading multiprocess-0.70.16-py310-none-any.whl.metadata (7.2 kB)\n",
            "Collecting fsspec<=2024.5.0,>=2023.1.0 (from fsspec[http]<=2024.5.0,>=2023.1.0->datasets)\n",
            "  Downloading fsspec-2024.5.0-py3-none-any.whl.metadata (11 kB)\n",
            "Requirement already satisfied: aiohttp in /usr/local/lib/python3.10/dist-packages (from datasets) (3.9.5)\n",
            "Requirement already satisfied: huggingface-hub>=0.21.2 in /usr/local/lib/python3.10/dist-packages (from datasets) (0.23.5)\n",
            "Requirement already satisfied: packaging in /usr/local/lib/python3.10/dist-packages (from datasets) (24.1)\n",
            "Requirement already satisfied: pyyaml>=5.1 in /usr/local/lib/python3.10/dist-packages (from datasets) (6.0.1)\n",
            "Requirement already satisfied: aiosignal>=1.1.2 in /usr/local/lib/python3.10/dist-packages (from aiohttp->datasets) (1.3.1)\n",
            "Requirement already satisfied: attrs>=17.3.0 in /usr/local/lib/python3.10/dist-packages (from aiohttp->datasets) (23.2.0)\n",
            "Requirement already satisfied: frozenlist>=1.1.1 in /usr/local/lib/python3.10/dist-packages (from aiohttp->datasets) (1.4.1)\n",
            "Requirement already satisfied: multidict<7.0,>=4.5 in /usr/local/lib/python3.10/dist-packages (from aiohttp->datasets) (6.0.5)\n",
            "Requirement already satisfied: yarl<2.0,>=1.0 in /usr/local/lib/python3.10/dist-packages (from aiohttp->datasets) (1.9.4)\n",
            "Requirement already satisfied: async-timeout<5.0,>=4.0 in /usr/local/lib/python3.10/dist-packages (from aiohttp->datasets) (4.0.3)\n",
            "Requirement already satisfied: typing-extensions>=3.7.4.3 in /usr/local/lib/python3.10/dist-packages (from huggingface-hub>=0.21.2->datasets) (4.12.2)\n",
            "Requirement already satisfied: charset-normalizer<4,>=2 in /usr/local/lib/python3.10/dist-packages (from requests>=2.32.2->datasets) (3.3.2)\n",
            "Requirement already satisfied: idna<4,>=2.5 in /usr/local/lib/python3.10/dist-packages (from requests>=2.32.2->datasets) (3.7)\n",
            "Requirement already satisfied: urllib3<3,>=1.21.1 in /usr/local/lib/python3.10/dist-packages (from requests>=2.32.2->datasets) (2.0.7)\n",
            "Requirement already satisfied: certifi>=2017.4.17 in /usr/local/lib/python3.10/dist-packages (from requests>=2.32.2->datasets) (2024.7.4)\n",
            "Requirement already satisfied: python-dateutil>=2.8.2 in /usr/local/lib/python3.10/dist-packages (from pandas->datasets) (2.8.2)\n",
            "Requirement already satisfied: pytz>=2020.1 in /usr/local/lib/python3.10/dist-packages (from pandas->datasets) (2024.1)\n",
            "Requirement already satisfied: tzdata>=2022.1 in /usr/local/lib/python3.10/dist-packages (from pandas->datasets) (2024.1)\n",
            "Requirement already satisfied: six>=1.5 in /usr/local/lib/python3.10/dist-packages (from python-dateutil>=2.8.2->pandas->datasets) (1.16.0)\n",
            "Downloading datasets-2.20.0-py3-none-any.whl (547 kB)\n",
            "\u001b[2K   \u001b[90m━━━━━━━━━━━━━━━━━━━━━━━━━━━━━━━━━━━━━━━━\u001b[0m \u001b[32m547.8/547.8 kB\u001b[0m \u001b[31m4.2 MB/s\u001b[0m eta \u001b[36m0:00:00\u001b[0m\n",
            "\u001b[?25hDownloading dill-0.3.8-py3-none-any.whl (116 kB)\n",
            "\u001b[2K   \u001b[90m━━━━━━━━━━━━━━━━━━━━━━━━━━━━━━━━━━━━━━━━\u001b[0m \u001b[32m116.3/116.3 kB\u001b[0m \u001b[31m9.0 MB/s\u001b[0m eta \u001b[36m0:00:00\u001b[0m\n",
            "\u001b[?25hDownloading fsspec-2024.5.0-py3-none-any.whl (316 kB)\n",
            "\u001b[2K   \u001b[90m━━━━━━━━━━━━━━━━━━━━━━━━━━━━━━━━━━━━━━━━\u001b[0m \u001b[32m316.1/316.1 kB\u001b[0m \u001b[31m18.7 MB/s\u001b[0m eta \u001b[36m0:00:00\u001b[0m\n",
            "\u001b[?25hDownloading pyarrow-17.0.0-cp310-cp310-manylinux_2_28_x86_64.whl (39.9 MB)\n",
            "\u001b[2K   \u001b[90m━━━━━━━━━━━━━━━━━━━━━━━━━━━━━━━━━━━━━━━━\u001b[0m \u001b[32m39.9/39.9 MB\u001b[0m \u001b[31m41.1 MB/s\u001b[0m eta \u001b[36m0:00:00\u001b[0m\n",
            "\u001b[?25hDownloading requests-2.32.3-py3-none-any.whl (64 kB)\n",
            "\u001b[2K   \u001b[90m━━━━━━━━━━━━━━━━━━━━━━━━━━━━━━━━━━━━━━━━\u001b[0m \u001b[32m64.9/64.9 kB\u001b[0m \u001b[31m3.3 MB/s\u001b[0m eta \u001b[36m0:00:00\u001b[0m\n",
            "\u001b[?25hDownloading multiprocess-0.70.16-py310-none-any.whl (134 kB)\n",
            "\u001b[2K   \u001b[90m━━━━━━━━━━━━━━━━━━━━━━━━━━━━━━━━━━━━━━━━\u001b[0m \u001b[32m134.8/134.8 kB\u001b[0m \u001b[31m8.0 MB/s\u001b[0m eta \u001b[36m0:00:00\u001b[0m\n",
            "\u001b[?25hDownloading xxhash-3.4.1-cp310-cp310-manylinux_2_17_x86_64.manylinux2014_x86_64.whl (194 kB)\n",
            "\u001b[2K   \u001b[90m━━━━━━━━━━━━━━━━━━━━━━━━━━━━━━━━━━━━━━━━\u001b[0m \u001b[32m194.1/194.1 kB\u001b[0m \u001b[31m14.1 MB/s\u001b[0m eta \u001b[36m0:00:00\u001b[0m\n",
            "\u001b[?25hInstalling collected packages: xxhash, requests, pyarrow, fsspec, dill, multiprocess, datasets\n",
            "  Attempting uninstall: requests\n",
            "    Found existing installation: requests 2.31.0\n",
            "    Uninstalling requests-2.31.0:\n",
            "      Successfully uninstalled requests-2.31.0\n",
            "  Attempting uninstall: pyarrow\n",
            "    Found existing installation: pyarrow 14.0.2\n",
            "    Uninstalling pyarrow-14.0.2:\n",
            "      Successfully uninstalled pyarrow-14.0.2\n",
            "  Attempting uninstall: fsspec\n",
            "    Found existing installation: fsspec 2024.6.1\n",
            "    Uninstalling fsspec-2024.6.1:\n",
            "      Successfully uninstalled fsspec-2024.6.1\n",
            "\u001b[31mERROR: pip's dependency resolver does not currently take into account all the packages that are installed. This behaviour is the source of the following dependency conflicts.\n",
            "torch 2.3.1+cu121 requires nvidia-cublas-cu12==12.1.3.1; platform_system == \"Linux\" and platform_machine == \"x86_64\", which is not installed.\n",
            "torch 2.3.1+cu121 requires nvidia-cuda-cupti-cu12==12.1.105; platform_system == \"Linux\" and platform_machine == \"x86_64\", which is not installed.\n",
            "torch 2.3.1+cu121 requires nvidia-cuda-nvrtc-cu12==12.1.105; platform_system == \"Linux\" and platform_machine == \"x86_64\", which is not installed.\n",
            "torch 2.3.1+cu121 requires nvidia-cuda-runtime-cu12==12.1.105; platform_system == \"Linux\" and platform_machine == \"x86_64\", which is not installed.\n",
            "torch 2.3.1+cu121 requires nvidia-cudnn-cu12==8.9.2.26; platform_system == \"Linux\" and platform_machine == \"x86_64\", which is not installed.\n",
            "torch 2.3.1+cu121 requires nvidia-cufft-cu12==11.0.2.54; platform_system == \"Linux\" and platform_machine == \"x86_64\", which is not installed.\n",
            "torch 2.3.1+cu121 requires nvidia-curand-cu12==10.3.2.106; platform_system == \"Linux\" and platform_machine == \"x86_64\", which is not installed.\n",
            "torch 2.3.1+cu121 requires nvidia-cusolver-cu12==11.4.5.107; platform_system == \"Linux\" and platform_machine == \"x86_64\", which is not installed.\n",
            "torch 2.3.1+cu121 requires nvidia-cusparse-cu12==12.1.0.106; platform_system == \"Linux\" and platform_machine == \"x86_64\", which is not installed.\n",
            "torch 2.3.1+cu121 requires nvidia-nccl-cu12==2.20.5; platform_system == \"Linux\" and platform_machine == \"x86_64\", which is not installed.\n",
            "torch 2.3.1+cu121 requires nvidia-nvtx-cu12==12.1.105; platform_system == \"Linux\" and platform_machine == \"x86_64\", which is not installed.\n",
            "cudf-cu12 24.4.1 requires pyarrow<15.0.0a0,>=14.0.1, but you have pyarrow 17.0.0 which is incompatible.\n",
            "gcsfs 2024.6.1 requires fsspec==2024.6.1, but you have fsspec 2024.5.0 which is incompatible.\n",
            "google-colab 1.0.0 requires requests==2.31.0, but you have requests 2.32.3 which is incompatible.\n",
            "ibis-framework 8.0.0 requires pyarrow<16,>=2, but you have pyarrow 17.0.0 which is incompatible.\u001b[0m\u001b[31m\n",
            "\u001b[0mSuccessfully installed datasets-2.20.0 dill-0.3.8 fsspec-2024.5.0 multiprocess-0.70.16 pyarrow-17.0.0 requests-2.32.3 xxhash-3.4.1\n"
          ]
        }
      ],
      "source": [
        "!pip install datasets"
      ]
    },
    {
      "cell_type": "code",
      "source": [
        "import torch\n",
        "import torch.nn as nn\n",
        "import torch.nn.functional as F\n",
        "import torch.optim as optim\n",
        "from torch.utils.data import DataLoader\n",
        "from datasets import load_dataset\n",
        "import matplotlib.pyplot as plt\n",
        "%matplotlib inline\n",
        "\n",
        "\n",
        "torch.manual_seed(1024)"
      ],
      "metadata": {
        "colab": {
          "base_uri": "https://localhost:8080/"
        },
        "id": "9j7avANmmqmu",
        "outputId": "b836e544-e24e-4a5c-bd88-981916d7c1b9"
      },
      "execution_count": null,
      "outputs": [
        {
          "output_type": "execute_result",
          "data": {
            "text/plain": [
              "<torch._C.Generator at 0x7b7434155ff0>"
            ]
          },
          "metadata": {},
          "execution_count": 2
        }
      ]
    },
    {
      "cell_type": "code",
      "source": [
        "# 超参数\n",
        "learning_rate = 1e-3\n",
        "eval_iters = 100\n",
        "batch_size = 128\n",
        "sequence_len = 32\n",
        "device = 'cuda' if torch.cuda.is_available() else 'cpu'"
      ],
      "metadata": {
        "id": "YjGXgUs7mxNv"
      },
      "execution_count": null,
      "outputs": []
    },
    {
      "cell_type": "code",
      "source": [
        "raw_datasets = load_dataset('tiny_shakespeare')\n",
        "train_data = raw_datasets['train']['text'][0]\n",
        "val_data = raw_datasets['validation']['text'][0]"
      ],
      "metadata": {
        "id": "eOM9jbnxm2pY"
      },
      "execution_count": null,
      "outputs": []
    },
    {
      "cell_type": "code",
      "source": [
        "class CharTokenizer:\n",
        "\n",
        "    def __init__(self, data, end_ind=0):\n",
        "        # data: list[str]\n",
        "        # 得到所有的字符\n",
        "        chars = sorted(list(set(''.join(data))))\n",
        "        self.char2ind = {s: i + 1 for i, s in enumerate(chars)}\n",
        "        self.char2ind['<|e|>'] = end_ind\n",
        "        self.ind2char = {v: k for k, v in self.char2ind.items()}\n",
        "        self.end_ind = end_ind\n",
        "\n",
        "    def encode(self, x):\n",
        "        # x: str\n",
        "        return [self.char2ind[i] for i in x]\n",
        "\n",
        "    def decode(self, x):\n",
        "        # x: int or list[x]\n",
        "        if isinstance(x, int):\n",
        "            return self.ind2char[x]\n",
        "        return [self.ind2char[i] for i in x]\n",
        "\n",
        "tokenizer = CharTokenizer(train_data)\n",
        "test_str = 'RES'\n",
        "re = tokenizer.encode(test_str)\n",
        "print(re)\n",
        "print(len(tokenizer.char2ind))\n",
        "''.join(tokenizer.decode(range(len(tokenizer.char2ind))))"
      ],
      "metadata": {
        "colab": {
          "base_uri": "https://localhost:8080/",
          "height": 70
        },
        "id": "htWRu2DaqOhh",
        "outputId": "70702716-e530-4502-8093-8d85a3ce7122"
      },
      "execution_count": null,
      "outputs": [
        {
          "output_type": "stream",
          "name": "stdout",
          "text": [
            "[31, 18, 32]\n",
            "66\n"
          ]
        },
        {
          "output_type": "execute_result",
          "data": {
            "text/plain": [
              "\"<|e|>\\n !$&',-.3:;?ABCDEFGHIJKLMNOPQRSTUVWXYZabcdefghijklmnopqrstuvwxyz\""
            ],
            "application/vnd.google.colaboratory.intrinsic+json": {
              "type": "string"
            }
          },
          "metadata": {},
          "execution_count": 28
        }
      ]
    },
    {
      "cell_type": "code",
      "source": [
        "class RNN(nn.Module):\n",
        "\n",
        "    def __init__(self, input_size, hidden_size):\n",
        "        super().__init__()\n",
        "        self.input_size = input_size\n",
        "        self.hidden_size = hidden_size\n",
        "        self.i2h = nn.Linear(input_size + hidden_size, hidden_size)\n",
        "\n",
        "    def forward(self, input, hidden=None):\n",
        "        # input:  (B, T, C)\n",
        "        # hidden: (B,    H)\n",
        "        # out:    (B, T, H)\n",
        "        B, T, C = input.shape\n",
        "        re = []\n",
        "        if hidden is None:\n",
        "            hidden = self.init_hidden(B, input.device)\n",
        "        for i in range(T):\n",
        "            combined = torch.concat((input[:, i, :], hidden), dim=-1)  # (B, C + H)\n",
        "            hidden = F.relu(self.i2h(combined))\n",
        "            re.append(hidden)\n",
        "        return torch.stack(re, dim=1)                                  # (B, T, H)\n",
        "\n",
        "    def init_hidden(self, B, device):\n",
        "        return torch.zeros((B, self.hidden_size), device=device)"
      ],
      "metadata": {
        "id": "Tltu9dbnqySH"
      },
      "execution_count": null,
      "outputs": []
    },
    {
      "cell_type": "code",
      "source": [
        "class CharRNNBatch(nn.Module):\n",
        "\n",
        "    def __init__(self, vs):\n",
        "        super().__init__()\n",
        "        emb_size = 256\n",
        "        hidden_size = 128\n",
        "        self.emb = nn.Embedding(vs, emb_size)\n",
        "        self.rnn1 = RNN(emb_size, hidden_size)\n",
        "        self.ln1 = nn.LayerNorm(hidden_size)\n",
        "        self.rnn2 = RNN(hidden_size, hidden_size)\n",
        "        self.ln2 = nn.LayerNorm(hidden_size)\n",
        "        self.lm = nn.Linear(hidden_size, vs)\n",
        "        self.dp = nn.Dropout(0.2)\n",
        "\n",
        "    def forward(self, x):\n",
        "        # x: (B, T)\n",
        "        B = x.shape[0]\n",
        "        embeddings = self.emb(x)           # (B, T, emb_size)\n",
        "        h = F.relu(self.ln1(self.rnn1(embeddings)))  # (B, T, hidden_size)\n",
        "        h = self.dp(h)\n",
        "        h = F.relu(self.ln2(self.rnn2(h)))      # (B, T, hidden_size)\n",
        "        h = self.dp(h)\n",
        "        out = self.lm(h)               # (B, T, vs)\n",
        "        return out"
      ],
      "metadata": {
        "id": "gc9dq7GpyNcd"
      },
      "execution_count": null,
      "outputs": []
    },
    {
      "cell_type": "code",
      "source": [
        "model = CharRNNBatch(len(tokenizer.char2ind)).to(device)"
      ],
      "metadata": {
        "id": "2mhVXJxxyaQr"
      },
      "execution_count": null,
      "outputs": []
    },
    {
      "cell_type": "code",
      "source": [
        "@torch.no_grad()\n",
        "def generate(model, context, tokenizer, max_new_tokens=300):\n",
        "    # context: (1, T)\n",
        "    #out = []\n",
        "    out = context.tolist()[0]\n",
        "    model.eval()\n",
        "    for _ in range(max_new_tokens):\n",
        "        logits = model(context)            # (1, T, vs)\n",
        "        probs = F.softmax(logits[:, -1, :], dim=-1)  # (1, vs)\n",
        "        ix = torch.multinomial(probs, num_samples=1)  # (1, 1)\n",
        "        context = torch.concat((context, ix), dim=-1)\n",
        "        out.append(ix.item())\n",
        "        if out[-1] == tokenizer.end_ind:\n",
        "          break\n",
        "    model.train()\n",
        "    return out"
      ],
      "metadata": {
        "id": "n6CGZX7hypRH"
      },
      "execution_count": null,
      "outputs": []
    },
    {
      "cell_type": "code",
      "source": [
        "context = torch.tensor(tokenizer.encode('def'), device=device).unsqueeze(0)\n",
        "print(''.join(tokenizer.decode(generate(model, context, tokenizer))))\n",
        "estimate_loss(model, tokenizer=tokenizer)"
      ],
      "metadata": {
        "colab": {
          "base_uri": "https://localhost:8080/"
        },
        "id": "Ye2mNyoGy1Cf",
        "outputId": "c6f28097-50a6-4bc8-a980-c520a8c39d8b"
      },
      "execution_count": null,
      "outputs": [
        {
          "output_type": "stream",
          "name": "stdout",
          "text": [
            "defj-YvbSsKQc<|e|>\n"
          ]
        },
        {
          "output_type": "execute_result",
          "data": {
            "text/plain": [
              "{'train': tensor(4.1459), 'val': tensor(4.1445)}"
            ]
          },
          "metadata": {},
          "execution_count": 72
        }
      ]
    },
    {
      "cell_type": "code",
      "source": [
        "train_datas = torch.tensor(tokenizer.encode(train_data), dtype=torch.long)\n",
        "val_datas = torch.tensor(tokenizer.encode(val_data), dtype=torch.long)\n",
        "train_datas"
      ],
      "metadata": {
        "colab": {
          "base_uri": "https://localhost:8080/"
        },
        "id": "Sk5-WGli2eUt",
        "outputId": "1e4c6d19-f7a8-469c-ee9d-9ddd814a0e0a"
      },
      "execution_count": null,
      "outputs": [
        {
          "output_type": "execute_result",
          "data": {
            "text/plain": [
              "tensor([19, 48, 57,  ..., 44, 57, 44])"
            ]
          },
          "metadata": {},
          "execution_count": 73
        }
      ]
    },
    {
      "cell_type": "code",
      "source": [
        "def get_batch(split, tokenizer):\n",
        "    # generate a small batch of data of inputs x and targets y\n",
        "    data = train_datas if split == 'train' else val_datas\n",
        "    ix = torch.randint(len(data) - sequence_len, (batch_size,))\n",
        "    x = torch.stack([data[i:i+sequence_len] for i in ix])\n",
        "    y = torch.stack([data[i+1:i+sequence_len+1] for i in ix])\n",
        "    x, y = x.to(device), y.to(device)\n",
        "    return x, y"
      ],
      "metadata": {
        "id": "EMIXAaRby_BP"
      },
      "execution_count": null,
      "outputs": []
    },
    {
      "cell_type": "code",
      "source": [
        "@torch.no_grad()\n",
        "def estimate_loss(model, tokenizer):\n",
        "    out = {}\n",
        "    model.eval()\n",
        "    for split in ['train', 'val']:\n",
        "        losses = torch.zeros(eval_iters)\n",
        "        for k in range(eval_iters):\n",
        "            X, Y = get_batch(split, tokenizer)\n",
        "            logits = model(X)\n",
        "            loss = F.cross_entropy(logits.transpose(-2, -1), Y)\n",
        "            losses[k] = loss.item()\n",
        "        out[split] = losses.mean()\n",
        "    model.train()\n",
        "    return out"
      ],
      "metadata": {
        "id": "F8mPe6rW0rz1"
      },
      "execution_count": null,
      "outputs": []
    },
    {
      "cell_type": "code",
      "source": [
        "optimizer = torch.optim.AdamW(model.parameters(), lr=learning_rate)\n",
        "\n",
        "max_step = 5000\n",
        "eval_step = 200\n",
        "for step in range(max_step):\n",
        "    if step % eval_step == 0 or step == max_step - 1:\n",
        "        losses = estimate_loss(model, tokenizer=tokenizer)\n",
        "        print(f\"step {step}: train loss {losses['train']:.4f}, val loss {losses['val']:.4f}\")\n",
        "\n",
        "    xb, yb = get_batch('train', tokenizer=tokenizer)\n",
        "    logits = model(xb)\n",
        "    loss = F.cross_entropy(logits.transpose(-2, -1), yb)\n",
        "    optimizer.zero_grad(set_to_none=True)\n",
        "    loss.backward()\n",
        "    optimizer.step()"
      ],
      "metadata": {
        "colab": {
          "base_uri": "https://localhost:8080/"
        },
        "id": "cft_q4H0z92v",
        "outputId": "a946550e-32d7-433f-d237-cf98579b069a"
      },
      "execution_count": null,
      "outputs": [
        {
          "output_type": "stream",
          "name": "stdout",
          "text": [
            "step 0: train loss 4.1439, val loss 4.1425\n",
            "step 200: train loss 1.9646, val loss 2.0049\n",
            "step 400: train loss 1.8165, val loss 1.8976\n",
            "step 600: train loss 1.7404, val loss 1.8407\n",
            "step 800: train loss 1.6973, val loss 1.8081\n",
            "step 1000: train loss 1.6642, val loss 1.7823\n",
            "step 1200: train loss 1.6506, val loss 1.7667\n",
            "step 1400: train loss 1.6363, val loss 1.7468\n",
            "step 1600: train loss 1.6197, val loss 1.7303\n",
            "step 1800: train loss 1.6050, val loss 1.7246\n",
            "step 2000: train loss 1.5995, val loss 1.7157\n",
            "step 2200: train loss 1.5949, val loss 1.7060\n",
            "step 2400: train loss 1.5869, val loss 1.6991\n",
            "step 2600: train loss 1.5776, val loss 1.7014\n",
            "step 2800: train loss 1.5787, val loss 1.6949\n",
            "step 3000: train loss 1.5645, val loss 1.6917\n",
            "step 3200: train loss 1.5634, val loss 1.6825\n",
            "step 3400: train loss 1.5633, val loss 1.6760\n",
            "step 3600: train loss 1.5568, val loss 1.6785\n",
            "step 3800: train loss 1.5527, val loss 1.6731\n",
            "step 4000: train loss 1.5520, val loss 1.6577\n",
            "step 4200: train loss 1.5498, val loss 1.6632\n",
            "step 4400: train loss 1.5505, val loss 1.6606\n",
            "step 4600: train loss 1.5460, val loss 1.6548\n",
            "step 4800: train loss 1.5476, val loss 1.6618\n",
            "step 4999: train loss 1.5417, val loss 1.6635\n"
          ]
        }
      ]
    },
    {
      "cell_type": "code",
      "source": [
        "context = torch.tensor(tokenizer.encode('B'), device=device).unsqueeze(0)\n",
        "print(''.join(tokenizer.decode(generate(model, context, tokenizer, max_new_tokens=500))))"
      ],
      "metadata": {
        "colab": {
          "base_uri": "https://localhost:8080/"
        },
        "id": "gyNXaXtt7IpE",
        "outputId": "843ddab4-dd68-4eb5-dfa5-5445d50b55ca"
      },
      "execution_count": null,
      "outputs": [
        {
          "output_type": "stream",
          "name": "stdout",
          "text": [
            "Bustice.\n",
            "\n",
            "QUEEN ELIZABETH:\n",
            "I prince the inst me to pray, my lept\n",
            "And less but ards,\n",
            "Becority\n",
            "not heaven.\n",
            "\n",
            "JULIET:\n",
            "How\n",
            "him,\n",
            "The taking which wind very winden blingthsonce on his bawly;\n",
            "Contian the shouldmiler pleasure, harn too a thing undercitors.\n",
            "\n",
            "KING RICHARD III:\n",
            "A fronting fault?\n",
            "\n",
            "HERMIONE:\n",
            "Wherm: complanges\n",
            "To the heart,\n",
            "Thou marendly be from all I have astatled to desenter.a\n",
            "III:\n",
            "Throme say, dest it break my cave lumber thy musice; 'Te tronerdain\n",
            "He well,\n",
            "With him these a\n",
            "Tade my make;\n",
            "For \n"
          ]
        }
      ]
    }
  ]
}